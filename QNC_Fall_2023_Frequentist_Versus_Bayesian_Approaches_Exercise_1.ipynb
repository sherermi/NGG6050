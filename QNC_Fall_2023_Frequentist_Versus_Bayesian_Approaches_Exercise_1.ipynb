{
  "nbformat": 4,
  "nbformat_minor": 0,
  "metadata": {
    "colab": {
      "provenance": [],
      "authorship_tag": "ABX9TyO/GcNuyZqPqUmf8QqUgLYs",
      "include_colab_link": true
    },
    "kernelspec": {
      "name": "python3",
      "display_name": "Python 3"
    },
    "language_info": {
      "name": "python"
    }
  },
  "cells": [
    {
      "cell_type": "markdown",
      "metadata": {
        "id": "view-in-github",
        "colab_type": "text"
      },
      "source": [
        "<a href=\"https://colab.research.google.com/github/sherermi/NGG6050/blob/main/QNC_Fall_2023_Frequentist_Versus_Bayesian_Approaches_Exercise_1.ipynb\" target=\"_parent\"><img src=\"https://colab.research.google.com/assets/colab-badge.svg\" alt=\"Open In Colab\"/></a>"
      ]
    },
    {
      "cell_type": "markdown",
      "source": [
        "\n",
        "  Author: Mia Sherer\n",
        "  Date: 09052023\n",
        "  To be run in Matlab\n",
        "\n",
        "Exercise #1:\n",
        "If someone gets a positive test, is it \"statistically significant\" at the p<0.05 level? Why or why not?\n",
        "    No because the likelihood of getting a positive test result is 5% so\n",
        "    the p value would need to be less than 0.05 to be statistically significant.\n"
      ],
      "metadata": {
        "id": "xPE3C71I11xz"
      }
    },
    {
      "cell_type": "code",
      "source": [
        "\n",
        "%% Exercise #2: What is the probability that if someone gets a positive test, that person is infected?\n",
        "\n",
        "% Assume a range of priors (infection rates) from 0 to 1 in steps of 0.1.\n",
        "prevalence_range = 0:0.1:1;\n",
        "\n",
        "% Initialize an array to store the results\n",
        "results = zeros(size(prevalence_range));\n",
        "\n",
        "% Define the false positive rate of the test\n",
        "false_positive_rate = 0.05;\n",
        "\n",
        "% Loop through each prevalence rate\n",
        "for i = 1:length(prevalence_range)\n",
        "    prevalence = prevalence_range(i);\n",
        "\n",
        "    % Calculate the probability of testing positive\n",
        "    probability_positive = 1 * prevalence + false_positive_rate * (1 - prevalence);\n",
        "\n",
        "    % Calculate the probability that someone who tests positive is actually infected\n",
        "    probability_infected_given_positive = (1 * prevalence) / probability_positive;\n",
        "\n",
        "    % Store the result in the results array\n",
        "    results(i) = probability_infected_given_positive;\n",
        "end\n",
        "\n",
        "% Display the results\n",
        "figure;\n",
        "plot(prevalence_range, results, '-o');\n",
        "xlabel('Prevalence Rate');\n",
        "ylabel('Probability (Infected | Positive)');\n",
        "title('Probability vs. Prevalence Rate');\n",
        "grid on;"
      ],
      "metadata": {
        "id": "uy5C2npd1s5J"
      },
      "execution_count": null,
      "outputs": []
    }
  ]
}